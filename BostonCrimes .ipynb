{
 "cells": [
  {
   "cell_type": "markdown",
   "metadata": {},
   "source": [
    "# Boston Crime Data\n",
    "\n",
    "Use sci-kit learn: \n",
    "RandomForestRegressor & Support Vector Regression. \n",
    "\n",
    "Dimension Reduction using Principal Component Analysis"
   ]
  },
  {
   "cell_type": "code",
   "execution_count": 3,
   "metadata": {
    "collapsed": true
   },
   "outputs": [],
   "source": [
    "from sklearn.datasets import load_boston\n",
    "boston = load_boston()"
   ]
  },
  {
   "cell_type": "code",
   "execution_count": 4,
   "metadata": {},
   "outputs": [
    {
     "data": {
      "text/plain": [
       "sklearn.datasets.base.Bunch"
      ]
     },
     "execution_count": 4,
     "metadata": {},
     "output_type": "execute_result"
    }
   ],
   "source": [
    "type(boston)"
   ]
  },
  {
   "cell_type": "code",
   "execution_count": 5,
   "metadata": {},
   "outputs": [
    {
     "data": {
      "text/plain": [
       "dict_keys(['data', 'target', 'feature_names', 'DESCR'])"
      ]
     },
     "execution_count": 5,
     "metadata": {},
     "output_type": "execute_result"
    }
   ],
   "source": [
    "boston.keys()"
   ]
  },
  {
   "cell_type": "code",
   "execution_count": 6,
   "metadata": {},
   "outputs": [
    {
     "data": {
      "text/plain": [
       "numpy.ndarray"
      ]
     },
     "execution_count": 6,
     "metadata": {},
     "output_type": "execute_result"
    }
   ],
   "source": [
    "type(boston['data'])"
   ]
  },
  {
   "cell_type": "code",
   "execution_count": 7,
   "metadata": {},
   "outputs": [
    {
     "data": {
      "text/plain": [
       "array(['CRIM', 'ZN', 'INDUS', 'CHAS', 'NOX', 'RM', 'AGE', 'DIS', 'RAD',\n",
       "       'TAX', 'PTRATIO', 'B', 'LSTAT'],\n",
       "      dtype='<U7')"
      ]
     },
     "execution_count": 7,
     "metadata": {},
     "output_type": "execute_result"
    }
   ],
   "source": [
    "boston['feature_names']"
   ]
  },
  {
   "cell_type": "code",
   "execution_count": 8,
   "metadata": {},
   "outputs": [
    {
     "name": "stdout",
     "output_type": "stream",
     "text": [
      "Boston House Prices dataset\n",
      "===========================\n",
      "\n",
      "Notes\n",
      "------\n",
      "Data Set Characteristics:  \n",
      "\n",
      "    :Number of Instances: 506 \n",
      "\n",
      "    :Number of Attributes: 13 numeric/categorical predictive\n",
      "    \n",
      "    :Median Value (attribute 14) is usually the target\n",
      "\n",
      "    :Attribute Information (in order):\n",
      "        - CRIM     per capita crime rate by town\n",
      "        - ZN       proportion of residential land zoned for lots over 25,000 sq.ft.\n",
      "        - INDUS    proportion of non-retail business acres per town\n",
      "        - CHAS     Charles River dummy variable (= 1 if tract bounds river; 0 otherwise)\n",
      "        - NOX      nitric oxides concentration (parts per 10 million)\n",
      "        - RM       average number of rooms per dwelling\n",
      "        - AGE      proportion of owner-occupied units built prior to 1940\n",
      "        - DIS      weighted distances to five Boston employment centres\n",
      "        - RAD      index of accessibility to radial highways\n",
      "        - TAX      full-value property-tax rate per $10,000\n",
      "        - PTRATIO  pupil-teacher ratio by town\n",
      "        - B        1000(Bk - 0.63)^2 where Bk is the proportion of blacks by town\n",
      "        - LSTAT    % lower status of the population\n",
      "        - MEDV     Median value of owner-occupied homes in $1000's\n",
      "\n",
      "    :Missing Attribute Values: None\n",
      "\n",
      "    :Creator: Harrison, D. and Rubinfeld, D.L.\n",
      "\n",
      "This is a copy of UCI ML housing dataset.\n",
      "http://archive.ics.uci.edu/ml/datasets/Housing\n",
      "\n",
      "\n",
      "This dataset was taken from the StatLib library which is maintained at Carnegie Mellon University.\n",
      "\n",
      "The Boston house-price data of Harrison, D. and Rubinfeld, D.L. 'Hedonic\n",
      "prices and the demand for clean air', J. Environ. Economics & Management,\n",
      "vol.5, 81-102, 1978.   Used in Belsley, Kuh & Welsch, 'Regression diagnostics\n",
      "...', Wiley, 1980.   N.B. Various transformations are used in the table on\n",
      "pages 244-261 of the latter.\n",
      "\n",
      "The Boston house-price data has been used in many machine learning papers that address regression\n",
      "problems.   \n",
      "     \n",
      "**References**\n",
      "\n",
      "   - Belsley, Kuh & Welsch, 'Regression diagnostics: Identifying Influential Data and Sources of Collinearity', Wiley, 1980. 244-261.\n",
      "   - Quinlan,R. (1993). Combining Instance-Based and Model-Based Learning. In Proceedings on the Tenth International Conference of Machine Learning, 236-243, University of Massachusetts, Amherst. Morgan Kaufmann.\n",
      "   - many more! (see http://archive.ics.uci.edu/ml/datasets/Housing)\n",
      "\n"
     ]
    }
   ],
   "source": [
    "print(boston['DESCR'])"
   ]
  },
  {
   "cell_type": "code",
   "execution_count": 9,
   "metadata": {
    "collapsed": true
   },
   "outputs": [],
   "source": [
    "import pandas as pd"
   ]
  },
  {
   "cell_type": "code",
   "execution_count": 10,
   "metadata": {},
   "outputs": [
    {
     "data": {
      "text/plain": [
       "CRIM        88.9762\n",
       "ZN         100.0000\n",
       "INDUS       27.7400\n",
       "CHAS         1.0000\n",
       "NOX          0.8710\n",
       "RM           8.7800\n",
       "AGE        100.0000\n",
       "DIS         12.1265\n",
       "RAD         24.0000\n",
       "TAX        711.0000\n",
       "PTRATIO     22.0000\n",
       "B          396.9000\n",
       "LSTAT       37.9700\n",
       "dtype: float64"
      ]
     },
     "execution_count": 10,
     "metadata": {},
     "output_type": "execute_result"
    }
   ],
   "source": [
    "df = pd.DataFrame(boston['data'], columns=boston['feature_names'])\n",
    "df.max(axis=0)"
   ]
  },
  {
   "cell_type": "code",
   "execution_count": 11,
   "metadata": {},
   "outputs": [
    {
     "data": {
      "text/html": [
       "<style  type=\"text/css\" >\n",
       "    #T_269dc1ba_a77f_11e7_b078_acbc32b10399row0_col0 {\n",
       "            background-color:  #fff7fb;\n",
       "        }    #T_269dc1ba_a77f_11e7_b078_acbc32b10399row0_col1 {\n",
       "            background-color:  #023858;\n",
       "        }    #T_269dc1ba_a77f_11e7_b078_acbc32b10399row0_col2 {\n",
       "            background-color:  #fcf4fa;\n",
       "        }    #T_269dc1ba_a77f_11e7_b078_acbc32b10399row0_col3 {\n",
       "            background-color:  #fff7fb;\n",
       "        }    #T_269dc1ba_a77f_11e7_b078_acbc32b10399row0_col4 {\n",
       "            background-color:  #023858;\n",
       "        }    #T_269dc1ba_a77f_11e7_b078_acbc32b10399row0_col5 {\n",
       "            background-color:  #3f93c2;\n",
       "        }    #T_269dc1ba_a77f_11e7_b078_acbc32b10399row0_col6 {\n",
       "            background-color:  #acc0dd;\n",
       "        }    #T_269dc1ba_a77f_11e7_b078_acbc32b10399row0_col7 {\n",
       "            background-color:  #fff7fb;\n",
       "        }    #T_269dc1ba_a77f_11e7_b078_acbc32b10399row0_col8 {\n",
       "            background-color:  #fff7fb;\n",
       "        }    #T_269dc1ba_a77f_11e7_b078_acbc32b10399row0_col9 {\n",
       "            background-color:  #046299;\n",
       "        }    #T_269dc1ba_a77f_11e7_b078_acbc32b10399row0_col10 {\n",
       "            background-color:  #fbf3f9;\n",
       "        }    #T_269dc1ba_a77f_11e7_b078_acbc32b10399row0_col11 {\n",
       "            background-color:  #023858;\n",
       "        }    #T_269dc1ba_a77f_11e7_b078_acbc32b10399row0_col12 {\n",
       "            background-color:  #f4edf6;\n",
       "        }    #T_269dc1ba_a77f_11e7_b078_acbc32b10399row1_col0 {\n",
       "            background-color:  #f0eaf4;\n",
       "        }    #T_269dc1ba_a77f_11e7_b078_acbc32b10399row1_col1 {\n",
       "            background-color:  #fff7fb;\n",
       "        }    #T_269dc1ba_a77f_11e7_b078_acbc32b10399row1_col2 {\n",
       "            background-color:  #045c90;\n",
       "        }    #T_269dc1ba_a77f_11e7_b078_acbc32b10399row1_col3 {\n",
       "            background-color:  #fff7fb;\n",
       "        }    #T_269dc1ba_a77f_11e7_b078_acbc32b10399row1_col4 {\n",
       "            background-color:  #e9e5f1;\n",
       "        }    #T_269dc1ba_a77f_11e7_b078_acbc32b10399row1_col5 {\n",
       "            background-color:  #6fa7ce;\n",
       "        }    #T_269dc1ba_a77f_11e7_b078_acbc32b10399row1_col6 {\n",
       "            background-color:  #3d93c2;\n",
       "        }    #T_269dc1ba_a77f_11e7_b078_acbc32b10399row1_col7 {\n",
       "            background-color:  #afc1dd;\n",
       "        }    #T_269dc1ba_a77f_11e7_b078_acbc32b10399row1_col8 {\n",
       "            background-color:  #d0d1e6;\n",
       "        }    #T_269dc1ba_a77f_11e7_b078_acbc32b10399row1_col9 {\n",
       "            background-color:  #d6d6e9;\n",
       "        }    #T_269dc1ba_a77f_11e7_b078_acbc32b10399row1_col10 {\n",
       "            background-color:  #0771b1;\n",
       "        }    #T_269dc1ba_a77f_11e7_b078_acbc32b10399row1_col11 {\n",
       "            background-color:  #023858;\n",
       "        }    #T_269dc1ba_a77f_11e7_b078_acbc32b10399row1_col12 {\n",
       "            background-color:  #d5d5e8;\n",
       "        }    #T_269dc1ba_a77f_11e7_b078_acbc32b10399row2_col0 {\n",
       "            background-color:  #f0eaf4;\n",
       "        }    #T_269dc1ba_a77f_11e7_b078_acbc32b10399row2_col1 {\n",
       "            background-color:  #fff7fb;\n",
       "        }    #T_269dc1ba_a77f_11e7_b078_acbc32b10399row2_col2 {\n",
       "            background-color:  #045c90;\n",
       "        }    #T_269dc1ba_a77f_11e7_b078_acbc32b10399row2_col3 {\n",
       "            background-color:  #fff7fb;\n",
       "        }    #T_269dc1ba_a77f_11e7_b078_acbc32b10399row2_col4 {\n",
       "            background-color:  #e9e5f1;\n",
       "        }    #T_269dc1ba_a77f_11e7_b078_acbc32b10399row2_col5 {\n",
       "            background-color:  #023858;\n",
       "        }    #T_269dc1ba_a77f_11e7_b078_acbc32b10399row2_col6 {\n",
       "            background-color:  #c5cce3;\n",
       "        }    #T_269dc1ba_a77f_11e7_b078_acbc32b10399row2_col7 {\n",
       "            background-color:  #afc1dd;\n",
       "        }    #T_269dc1ba_a77f_11e7_b078_acbc32b10399row2_col8 {\n",
       "            background-color:  #d0d1e6;\n",
       "        }    #T_269dc1ba_a77f_11e7_b078_acbc32b10399row2_col9 {\n",
       "            background-color:  #d6d6e9;\n",
       "        }    #T_269dc1ba_a77f_11e7_b078_acbc32b10399row2_col10 {\n",
       "            background-color:  #0771b1;\n",
       "        }    #T_269dc1ba_a77f_11e7_b078_acbc32b10399row2_col11 {\n",
       "            background-color:  #4094c3;\n",
       "        }    #T_269dc1ba_a77f_11e7_b078_acbc32b10399row2_col12 {\n",
       "            background-color:  #f9f2f8;\n",
       "        }    #T_269dc1ba_a77f_11e7_b078_acbc32b10399row3_col0 {\n",
       "            background-color:  #ece7f2;\n",
       "        }    #T_269dc1ba_a77f_11e7_b078_acbc32b10399row3_col1 {\n",
       "            background-color:  #fff7fb;\n",
       "        }    #T_269dc1ba_a77f_11e7_b078_acbc32b10399row3_col2 {\n",
       "            background-color:  #fff7fb;\n",
       "        }    #T_269dc1ba_a77f_11e7_b078_acbc32b10399row3_col3 {\n",
       "            background-color:  #fff7fb;\n",
       "        }    #T_269dc1ba_a77f_11e7_b078_acbc32b10399row3_col4 {\n",
       "            background-color:  #fff7fb;\n",
       "        }    #T_269dc1ba_a77f_11e7_b078_acbc32b10399row3_col5 {\n",
       "            background-color:  #04588a;\n",
       "        }    #T_269dc1ba_a77f_11e7_b078_acbc32b10399row3_col6 {\n",
       "            background-color:  #fff7fb;\n",
       "        }    #T_269dc1ba_a77f_11e7_b078_acbc32b10399row3_col7 {\n",
       "            background-color:  #0569a5;\n",
       "        }    #T_269dc1ba_a77f_11e7_b078_acbc32b10399row3_col8 {\n",
       "            background-color:  #73a9cf;\n",
       "        }    #T_269dc1ba_a77f_11e7_b078_acbc32b10399row3_col9 {\n",
       "            background-color:  #fff7fb;\n",
       "        }    #T_269dc1ba_a77f_11e7_b078_acbc32b10399row3_col10 {\n",
       "            background-color:  #023858;\n",
       "        }    #T_269dc1ba_a77f_11e7_b078_acbc32b10399row3_col11 {\n",
       "            background-color:  #056ba7;\n",
       "        }    #T_269dc1ba_a77f_11e7_b078_acbc32b10399row3_col12 {\n",
       "            background-color:  #fff7fb;\n",
       "        }    #T_269dc1ba_a77f_11e7_b078_acbc32b10399row4_col0 {\n",
       "            background-color:  #bdc8e1;\n",
       "        }    #T_269dc1ba_a77f_11e7_b078_acbc32b10399row4_col1 {\n",
       "            background-color:  #fff7fb;\n",
       "        }    #T_269dc1ba_a77f_11e7_b078_acbc32b10399row4_col2 {\n",
       "            background-color:  #fff7fb;\n",
       "        }    #T_269dc1ba_a77f_11e7_b078_acbc32b10399row4_col3 {\n",
       "            background-color:  #fff7fb;\n",
       "        }    #T_269dc1ba_a77f_11e7_b078_acbc32b10399row4_col4 {\n",
       "            background-color:  #fff7fb;\n",
       "        }    #T_269dc1ba_a77f_11e7_b078_acbc32b10399row4_col5 {\n",
       "            background-color:  #023e62;\n",
       "        }    #T_269dc1ba_a77f_11e7_b078_acbc32b10399row4_col6 {\n",
       "            background-color:  #e6e2ef;\n",
       "        }    #T_269dc1ba_a77f_11e7_b078_acbc32b10399row4_col7 {\n",
       "            background-color:  #0569a5;\n",
       "        }    #T_269dc1ba_a77f_11e7_b078_acbc32b10399row4_col8 {\n",
       "            background-color:  #73a9cf;\n",
       "        }    #T_269dc1ba_a77f_11e7_b078_acbc32b10399row4_col9 {\n",
       "            background-color:  #fff7fb;\n",
       "        }    #T_269dc1ba_a77f_11e7_b078_acbc32b10399row4_col10 {\n",
       "            background-color:  #023858;\n",
       "        }    #T_269dc1ba_a77f_11e7_b078_acbc32b10399row4_col11 {\n",
       "            background-color:  #023858;\n",
       "        }    #T_269dc1ba_a77f_11e7_b078_acbc32b10399row4_col12 {\n",
       "            background-color:  #f2ecf5;\n",
       "        }    #T_269dc1ba_a77f_11e7_b078_acbc32b10399row5_col0 {\n",
       "            background-color:  #eee8f3;\n",
       "        }    #T_269dc1ba_a77f_11e7_b078_acbc32b10399row5_col1 {\n",
       "            background-color:  #fff7fb;\n",
       "        }    #T_269dc1ba_a77f_11e7_b078_acbc32b10399row5_col2 {\n",
       "            background-color:  #fff7fb;\n",
       "        }    #T_269dc1ba_a77f_11e7_b078_acbc32b10399row5_col3 {\n",
       "            background-color:  #fff7fb;\n",
       "        }    #T_269dc1ba_a77f_11e7_b078_acbc32b10399row5_col4 {\n",
       "            background-color:  #fff7fb;\n",
       "        }    #T_269dc1ba_a77f_11e7_b078_acbc32b10399row5_col5 {\n",
       "            background-color:  #6da6cd;\n",
       "        }    #T_269dc1ba_a77f_11e7_b078_acbc32b10399row5_col6 {\n",
       "            background-color:  #d3d4e7;\n",
       "        }    #T_269dc1ba_a77f_11e7_b078_acbc32b10399row5_col7 {\n",
       "            background-color:  #0569a5;\n",
       "        }    #T_269dc1ba_a77f_11e7_b078_acbc32b10399row5_col8 {\n",
       "            background-color:  #73a9cf;\n",
       "        }    #T_269dc1ba_a77f_11e7_b078_acbc32b10399row5_col9 {\n",
       "            background-color:  #fff7fb;\n",
       "        }    #T_269dc1ba_a77f_11e7_b078_acbc32b10399row5_col10 {\n",
       "            background-color:  #023858;\n",
       "        }    #T_269dc1ba_a77f_11e7_b078_acbc32b10399row5_col11 {\n",
       "            background-color:  #0d75b3;\n",
       "        }    #T_269dc1ba_a77f_11e7_b078_acbc32b10399row5_col12 {\n",
       "            background-color:  #f2ecf5;\n",
       "        }    #T_269dc1ba_a77f_11e7_b078_acbc32b10399row6_col0 {\n",
       "            background-color:  #9cb9d9;\n",
       "        }    #T_269dc1ba_a77f_11e7_b078_acbc32b10399row6_col1 {\n",
       "            background-color:  #1b7eb7;\n",
       "        }    #T_269dc1ba_a77f_11e7_b078_acbc32b10399row6_col2 {\n",
       "            background-color:  #023858;\n",
       "        }    #T_269dc1ba_a77f_11e7_b078_acbc32b10399row6_col3 {\n",
       "            background-color:  #fff7fb;\n",
       "        }    #T_269dc1ba_a77f_11e7_b078_acbc32b10399row6_col4 {\n",
       "            background-color:  #04629a;\n",
       "        }    #T_269dc1ba_a77f_11e7_b078_acbc32b10399row6_col5 {\n",
       "            background-color:  #d2d2e7;\n",
       "        }    #T_269dc1ba_a77f_11e7_b078_acbc32b10399row6_col6 {\n",
       "            background-color:  #a2bcda;\n",
       "        }    #T_269dc1ba_a77f_11e7_b078_acbc32b10399row6_col7 {\n",
       "            background-color:  #4897c4;\n",
       "        }    #T_269dc1ba_a77f_11e7_b078_acbc32b10399row6_col8 {\n",
       "            background-color:  #023858;\n",
       "        }    #T_269dc1ba_a77f_11e7_b078_acbc32b10399row6_col9 {\n",
       "            background-color:  #023858;\n",
       "        }    #T_269dc1ba_a77f_11e7_b078_acbc32b10399row6_col10 {\n",
       "            background-color:  #fff7fb;\n",
       "        }    #T_269dc1ba_a77f_11e7_b078_acbc32b10399row6_col11 {\n",
       "            background-color:  #045a8d;\n",
       "        }    #T_269dc1ba_a77f_11e7_b078_acbc32b10399row6_col12 {\n",
       "            background-color:  #adc1dd;\n",
       "        }    #T_269dc1ba_a77f_11e7_b078_acbc32b10399row7_col0 {\n",
       "            background-color:  #2383ba;\n",
       "        }    #T_269dc1ba_a77f_11e7_b078_acbc32b10399row7_col1 {\n",
       "            background-color:  #1b7eb7;\n",
       "        }    #T_269dc1ba_a77f_11e7_b078_acbc32b10399row7_col2 {\n",
       "            background-color:  #023858;\n",
       "        }    #T_269dc1ba_a77f_11e7_b078_acbc32b10399row7_col3 {\n",
       "            background-color:  #fff7fb;\n",
       "        }    #T_269dc1ba_a77f_11e7_b078_acbc32b10399row7_col4 {\n",
       "            background-color:  #04629a;\n",
       "        }    #T_269dc1ba_a77f_11e7_b078_acbc32b10399row7_col5 {\n",
       "            background-color:  #afc1dd;\n",
       "        }    #T_269dc1ba_a77f_11e7_b078_acbc32b10399row7_col6 {\n",
       "            background-color:  #034b76;\n",
       "        }    #T_269dc1ba_a77f_11e7_b078_acbc32b10399row7_col7 {\n",
       "            background-color:  #0771b1;\n",
       "        }    #T_269dc1ba_a77f_11e7_b078_acbc32b10399row7_col8 {\n",
       "            background-color:  #023858;\n",
       "        }    #T_269dc1ba_a77f_11e7_b078_acbc32b10399row7_col9 {\n",
       "            background-color:  #023858;\n",
       "        }    #T_269dc1ba_a77f_11e7_b078_acbc32b10399row7_col10 {\n",
       "            background-color:  #fff7fb;\n",
       "        }    #T_269dc1ba_a77f_11e7_b078_acbc32b10399row7_col11 {\n",
       "            background-color:  #023858;\n",
       "        }    #T_269dc1ba_a77f_11e7_b078_acbc32b10399row7_col12 {\n",
       "            background-color:  #4295c3;\n",
       "        }    #T_269dc1ba_a77f_11e7_b078_acbc32b10399row8_col0 {\n",
       "            background-color:  #023858;\n",
       "        }    #T_269dc1ba_a77f_11e7_b078_acbc32b10399row8_col1 {\n",
       "            background-color:  #1b7eb7;\n",
       "        }    #T_269dc1ba_a77f_11e7_b078_acbc32b10399row8_col2 {\n",
       "            background-color:  #023858;\n",
       "        }    #T_269dc1ba_a77f_11e7_b078_acbc32b10399row8_col3 {\n",
       "            background-color:  #fff7fb;\n",
       "        }    #T_269dc1ba_a77f_11e7_b078_acbc32b10399row8_col4 {\n",
       "            background-color:  #04629a;\n",
       "        }    #T_269dc1ba_a77f_11e7_b078_acbc32b10399row8_col5 {\n",
       "            background-color:  #fff7fb;\n",
       "        }    #T_269dc1ba_a77f_11e7_b078_acbc32b10399row8_col6 {\n",
       "            background-color:  #023858;\n",
       "        }    #T_269dc1ba_a77f_11e7_b078_acbc32b10399row8_col7 {\n",
       "            background-color:  #0568a3;\n",
       "        }    #T_269dc1ba_a77f_11e7_b078_acbc32b10399row8_col8 {\n",
       "            background-color:  #023858;\n",
       "        }    #T_269dc1ba_a77f_11e7_b078_acbc32b10399row8_col9 {\n",
       "            background-color:  #023858;\n",
       "        }    #T_269dc1ba_a77f_11e7_b078_acbc32b10399row8_col10 {\n",
       "            background-color:  #fff7fb;\n",
       "        }    #T_269dc1ba_a77f_11e7_b078_acbc32b10399row8_col11 {\n",
       "            background-color:  #fff7fb;\n",
       "        }    #T_269dc1ba_a77f_11e7_b078_acbc32b10399row8_col12 {\n",
       "            background-color:  #023858;\n",
       "        }    #T_269dc1ba_a77f_11e7_b078_acbc32b10399row9_col0 {\n",
       "            background-color:  #0567a2;\n",
       "        }    #T_269dc1ba_a77f_11e7_b078_acbc32b10399row9_col1 {\n",
       "            background-color:  #1b7eb7;\n",
       "        }    #T_269dc1ba_a77f_11e7_b078_acbc32b10399row9_col2 {\n",
       "            background-color:  #023858;\n",
       "        }    #T_269dc1ba_a77f_11e7_b078_acbc32b10399row9_col3 {\n",
       "            background-color:  #fff7fb;\n",
       "        }    #T_269dc1ba_a77f_11e7_b078_acbc32b10399row9_col4 {\n",
       "            background-color:  #04629a;\n",
       "        }    #T_269dc1ba_a77f_11e7_b078_acbc32b10399row9_col5 {\n",
       "            background-color:  #d2d3e7;\n",
       "        }    #T_269dc1ba_a77f_11e7_b078_acbc32b10399row9_col6 {\n",
       "            background-color:  #0872b1;\n",
       "        }    #T_269dc1ba_a77f_11e7_b078_acbc32b10399row9_col7 {\n",
       "            background-color:  #023858;\n",
       "        }    #T_269dc1ba_a77f_11e7_b078_acbc32b10399row9_col8 {\n",
       "            background-color:  #023858;\n",
       "        }    #T_269dc1ba_a77f_11e7_b078_acbc32b10399row9_col9 {\n",
       "            background-color:  #023858;\n",
       "        }    #T_269dc1ba_a77f_11e7_b078_acbc32b10399row9_col10 {\n",
       "            background-color:  #fff7fb;\n",
       "        }    #T_269dc1ba_a77f_11e7_b078_acbc32b10399row9_col11 {\n",
       "            background-color:  #fef6fb;\n",
       "        }    #T_269dc1ba_a77f_11e7_b078_acbc32b10399row9_col12 {\n",
       "            background-color:  #67a4cc;\n",
       "        }</style>  \n",
       "<table id=\"T_269dc1ba_a77f_11e7_b078_acbc32b10399\" > \n",
       "<thead>    <tr> \n",
       "        <th class=\"blank level0\" ></th> \n",
       "        <th class=\"col_heading level0 col0\" >CRIM</th> \n",
       "        <th class=\"col_heading level0 col1\" >ZN</th> \n",
       "        <th class=\"col_heading level0 col2\" >INDUS</th> \n",
       "        <th class=\"col_heading level0 col3\" >CHAS</th> \n",
       "        <th class=\"col_heading level0 col4\" >NOX</th> \n",
       "        <th class=\"col_heading level0 col5\" >RM</th> \n",
       "        <th class=\"col_heading level0 col6\" >AGE</th> \n",
       "        <th class=\"col_heading level0 col7\" >DIS</th> \n",
       "        <th class=\"col_heading level0 col8\" >RAD</th> \n",
       "        <th class=\"col_heading level0 col9\" >TAX</th> \n",
       "        <th class=\"col_heading level0 col10\" >PTRATIO</th> \n",
       "        <th class=\"col_heading level0 col11\" >B</th> \n",
       "        <th class=\"col_heading level0 col12\" >LSTAT</th> \n",
       "    </tr></thead> \n",
       "<tbody>    <tr> \n",
       "        <th id=\"T_269dc1ba_a77f_11e7_b078_acbc32b10399level0_row0\" class=\"row_heading level0 row0\" >0</th> \n",
       "        <td id=\"T_269dc1ba_a77f_11e7_b078_acbc32b10399row0_col0\" class=\"data row0 col0\" >0.00632</td> \n",
       "        <td id=\"T_269dc1ba_a77f_11e7_b078_acbc32b10399row0_col1\" class=\"data row0 col1\" >18</td> \n",
       "        <td id=\"T_269dc1ba_a77f_11e7_b078_acbc32b10399row0_col2\" class=\"data row0 col2\" >2.31</td> \n",
       "        <td id=\"T_269dc1ba_a77f_11e7_b078_acbc32b10399row0_col3\" class=\"data row0 col3\" >0</td> \n",
       "        <td id=\"T_269dc1ba_a77f_11e7_b078_acbc32b10399row0_col4\" class=\"data row0 col4\" >0.538</td> \n",
       "        <td id=\"T_269dc1ba_a77f_11e7_b078_acbc32b10399row0_col5\" class=\"data row0 col5\" >6.575</td> \n",
       "        <td id=\"T_269dc1ba_a77f_11e7_b078_acbc32b10399row0_col6\" class=\"data row0 col6\" >65.2</td> \n",
       "        <td id=\"T_269dc1ba_a77f_11e7_b078_acbc32b10399row0_col7\" class=\"data row0 col7\" >4.09</td> \n",
       "        <td id=\"T_269dc1ba_a77f_11e7_b078_acbc32b10399row0_col8\" class=\"data row0 col8\" >1</td> \n",
       "        <td id=\"T_269dc1ba_a77f_11e7_b078_acbc32b10399row0_col9\" class=\"data row0 col9\" >296</td> \n",
       "        <td id=\"T_269dc1ba_a77f_11e7_b078_acbc32b10399row0_col10\" class=\"data row0 col10\" >15.3</td> \n",
       "        <td id=\"T_269dc1ba_a77f_11e7_b078_acbc32b10399row0_col11\" class=\"data row0 col11\" >396.9</td> \n",
       "        <td id=\"T_269dc1ba_a77f_11e7_b078_acbc32b10399row0_col12\" class=\"data row0 col12\" >4.98</td> \n",
       "    </tr>    <tr> \n",
       "        <th id=\"T_269dc1ba_a77f_11e7_b078_acbc32b10399level0_row1\" class=\"row_heading level0 row1\" >1</th> \n",
       "        <td id=\"T_269dc1ba_a77f_11e7_b078_acbc32b10399row1_col0\" class=\"data row1 col0\" >0.02731</td> \n",
       "        <td id=\"T_269dc1ba_a77f_11e7_b078_acbc32b10399row1_col1\" class=\"data row1 col1\" >0</td> \n",
       "        <td id=\"T_269dc1ba_a77f_11e7_b078_acbc32b10399row1_col2\" class=\"data row1 col2\" >7.07</td> \n",
       "        <td id=\"T_269dc1ba_a77f_11e7_b078_acbc32b10399row1_col3\" class=\"data row1 col3\" >0</td> \n",
       "        <td id=\"T_269dc1ba_a77f_11e7_b078_acbc32b10399row1_col4\" class=\"data row1 col4\" >0.469</td> \n",
       "        <td id=\"T_269dc1ba_a77f_11e7_b078_acbc32b10399row1_col5\" class=\"data row1 col5\" >6.421</td> \n",
       "        <td id=\"T_269dc1ba_a77f_11e7_b078_acbc32b10399row1_col6\" class=\"data row1 col6\" >78.9</td> \n",
       "        <td id=\"T_269dc1ba_a77f_11e7_b078_acbc32b10399row1_col7\" class=\"data row1 col7\" >4.9671</td> \n",
       "        <td id=\"T_269dc1ba_a77f_11e7_b078_acbc32b10399row1_col8\" class=\"data row1 col8\" >2</td> \n",
       "        <td id=\"T_269dc1ba_a77f_11e7_b078_acbc32b10399row1_col9\" class=\"data row1 col9\" >242</td> \n",
       "        <td id=\"T_269dc1ba_a77f_11e7_b078_acbc32b10399row1_col10\" class=\"data row1 col10\" >17.8</td> \n",
       "        <td id=\"T_269dc1ba_a77f_11e7_b078_acbc32b10399row1_col11\" class=\"data row1 col11\" >396.9</td> \n",
       "        <td id=\"T_269dc1ba_a77f_11e7_b078_acbc32b10399row1_col12\" class=\"data row1 col12\" >9.14</td> \n",
       "    </tr>    <tr> \n",
       "        <th id=\"T_269dc1ba_a77f_11e7_b078_acbc32b10399level0_row2\" class=\"row_heading level0 row2\" >2</th> \n",
       "        <td id=\"T_269dc1ba_a77f_11e7_b078_acbc32b10399row2_col0\" class=\"data row2 col0\" >0.02729</td> \n",
       "        <td id=\"T_269dc1ba_a77f_11e7_b078_acbc32b10399row2_col1\" class=\"data row2 col1\" >0</td> \n",
       "        <td id=\"T_269dc1ba_a77f_11e7_b078_acbc32b10399row2_col2\" class=\"data row2 col2\" >7.07</td> \n",
       "        <td id=\"T_269dc1ba_a77f_11e7_b078_acbc32b10399row2_col3\" class=\"data row2 col3\" >0</td> \n",
       "        <td id=\"T_269dc1ba_a77f_11e7_b078_acbc32b10399row2_col4\" class=\"data row2 col4\" >0.469</td> \n",
       "        <td id=\"T_269dc1ba_a77f_11e7_b078_acbc32b10399row2_col5\" class=\"data row2 col5\" >7.185</td> \n",
       "        <td id=\"T_269dc1ba_a77f_11e7_b078_acbc32b10399row2_col6\" class=\"data row2 col6\" >61.1</td> \n",
       "        <td id=\"T_269dc1ba_a77f_11e7_b078_acbc32b10399row2_col7\" class=\"data row2 col7\" >4.9671</td> \n",
       "        <td id=\"T_269dc1ba_a77f_11e7_b078_acbc32b10399row2_col8\" class=\"data row2 col8\" >2</td> \n",
       "        <td id=\"T_269dc1ba_a77f_11e7_b078_acbc32b10399row2_col9\" class=\"data row2 col9\" >242</td> \n",
       "        <td id=\"T_269dc1ba_a77f_11e7_b078_acbc32b10399row2_col10\" class=\"data row2 col10\" >17.8</td> \n",
       "        <td id=\"T_269dc1ba_a77f_11e7_b078_acbc32b10399row2_col11\" class=\"data row2 col11\" >392.83</td> \n",
       "        <td id=\"T_269dc1ba_a77f_11e7_b078_acbc32b10399row2_col12\" class=\"data row2 col12\" >4.03</td> \n",
       "    </tr>    <tr> \n",
       "        <th id=\"T_269dc1ba_a77f_11e7_b078_acbc32b10399level0_row3\" class=\"row_heading level0 row3\" >3</th> \n",
       "        <td id=\"T_269dc1ba_a77f_11e7_b078_acbc32b10399row3_col0\" class=\"data row3 col0\" >0.03237</td> \n",
       "        <td id=\"T_269dc1ba_a77f_11e7_b078_acbc32b10399row3_col1\" class=\"data row3 col1\" >0</td> \n",
       "        <td id=\"T_269dc1ba_a77f_11e7_b078_acbc32b10399row3_col2\" class=\"data row3 col2\" >2.18</td> \n",
       "        <td id=\"T_269dc1ba_a77f_11e7_b078_acbc32b10399row3_col3\" class=\"data row3 col3\" >0</td> \n",
       "        <td id=\"T_269dc1ba_a77f_11e7_b078_acbc32b10399row3_col4\" class=\"data row3 col4\" >0.458</td> \n",
       "        <td id=\"T_269dc1ba_a77f_11e7_b078_acbc32b10399row3_col5\" class=\"data row3 col5\" >6.998</td> \n",
       "        <td id=\"T_269dc1ba_a77f_11e7_b078_acbc32b10399row3_col6\" class=\"data row3 col6\" >45.8</td> \n",
       "        <td id=\"T_269dc1ba_a77f_11e7_b078_acbc32b10399row3_col7\" class=\"data row3 col7\" >6.0622</td> \n",
       "        <td id=\"T_269dc1ba_a77f_11e7_b078_acbc32b10399row3_col8\" class=\"data row3 col8\" >3</td> \n",
       "        <td id=\"T_269dc1ba_a77f_11e7_b078_acbc32b10399row3_col9\" class=\"data row3 col9\" >222</td> \n",
       "        <td id=\"T_269dc1ba_a77f_11e7_b078_acbc32b10399row3_col10\" class=\"data row3 col10\" >18.7</td> \n",
       "        <td id=\"T_269dc1ba_a77f_11e7_b078_acbc32b10399row3_col11\" class=\"data row3 col11\" >394.63</td> \n",
       "        <td id=\"T_269dc1ba_a77f_11e7_b078_acbc32b10399row3_col12\" class=\"data row3 col12\" >2.94</td> \n",
       "    </tr>    <tr> \n",
       "        <th id=\"T_269dc1ba_a77f_11e7_b078_acbc32b10399level0_row4\" class=\"row_heading level0 row4\" >4</th> \n",
       "        <td id=\"T_269dc1ba_a77f_11e7_b078_acbc32b10399row4_col0\" class=\"data row4 col0\" >0.06905</td> \n",
       "        <td id=\"T_269dc1ba_a77f_11e7_b078_acbc32b10399row4_col1\" class=\"data row4 col1\" >0</td> \n",
       "        <td id=\"T_269dc1ba_a77f_11e7_b078_acbc32b10399row4_col2\" class=\"data row4 col2\" >2.18</td> \n",
       "        <td id=\"T_269dc1ba_a77f_11e7_b078_acbc32b10399row4_col3\" class=\"data row4 col3\" >0</td> \n",
       "        <td id=\"T_269dc1ba_a77f_11e7_b078_acbc32b10399row4_col4\" class=\"data row4 col4\" >0.458</td> \n",
       "        <td id=\"T_269dc1ba_a77f_11e7_b078_acbc32b10399row4_col5\" class=\"data row4 col5\" >7.147</td> \n",
       "        <td id=\"T_269dc1ba_a77f_11e7_b078_acbc32b10399row4_col6\" class=\"data row4 col6\" >54.2</td> \n",
       "        <td id=\"T_269dc1ba_a77f_11e7_b078_acbc32b10399row4_col7\" class=\"data row4 col7\" >6.0622</td> \n",
       "        <td id=\"T_269dc1ba_a77f_11e7_b078_acbc32b10399row4_col8\" class=\"data row4 col8\" >3</td> \n",
       "        <td id=\"T_269dc1ba_a77f_11e7_b078_acbc32b10399row4_col9\" class=\"data row4 col9\" >222</td> \n",
       "        <td id=\"T_269dc1ba_a77f_11e7_b078_acbc32b10399row4_col10\" class=\"data row4 col10\" >18.7</td> \n",
       "        <td id=\"T_269dc1ba_a77f_11e7_b078_acbc32b10399row4_col11\" class=\"data row4 col11\" >396.9</td> \n",
       "        <td id=\"T_269dc1ba_a77f_11e7_b078_acbc32b10399row4_col12\" class=\"data row4 col12\" >5.33</td> \n",
       "    </tr>    <tr> \n",
       "        <th id=\"T_269dc1ba_a77f_11e7_b078_acbc32b10399level0_row5\" class=\"row_heading level0 row5\" >5</th> \n",
       "        <td id=\"T_269dc1ba_a77f_11e7_b078_acbc32b10399row5_col0\" class=\"data row5 col0\" >0.02985</td> \n",
       "        <td id=\"T_269dc1ba_a77f_11e7_b078_acbc32b10399row5_col1\" class=\"data row5 col1\" >0</td> \n",
       "        <td id=\"T_269dc1ba_a77f_11e7_b078_acbc32b10399row5_col2\" class=\"data row5 col2\" >2.18</td> \n",
       "        <td id=\"T_269dc1ba_a77f_11e7_b078_acbc32b10399row5_col3\" class=\"data row5 col3\" >0</td> \n",
       "        <td id=\"T_269dc1ba_a77f_11e7_b078_acbc32b10399row5_col4\" class=\"data row5 col4\" >0.458</td> \n",
       "        <td id=\"T_269dc1ba_a77f_11e7_b078_acbc32b10399row5_col5\" class=\"data row5 col5\" >6.43</td> \n",
       "        <td id=\"T_269dc1ba_a77f_11e7_b078_acbc32b10399row5_col6\" class=\"data row5 col6\" >58.7</td> \n",
       "        <td id=\"T_269dc1ba_a77f_11e7_b078_acbc32b10399row5_col7\" class=\"data row5 col7\" >6.0622</td> \n",
       "        <td id=\"T_269dc1ba_a77f_11e7_b078_acbc32b10399row5_col8\" class=\"data row5 col8\" >3</td> \n",
       "        <td id=\"T_269dc1ba_a77f_11e7_b078_acbc32b10399row5_col9\" class=\"data row5 col9\" >222</td> \n",
       "        <td id=\"T_269dc1ba_a77f_11e7_b078_acbc32b10399row5_col10\" class=\"data row5 col10\" >18.7</td> \n",
       "        <td id=\"T_269dc1ba_a77f_11e7_b078_acbc32b10399row5_col11\" class=\"data row5 col11\" >394.12</td> \n",
       "        <td id=\"T_269dc1ba_a77f_11e7_b078_acbc32b10399row5_col12\" class=\"data row5 col12\" >5.21</td> \n",
       "    </tr>    <tr> \n",
       "        <th id=\"T_269dc1ba_a77f_11e7_b078_acbc32b10399level0_row6\" class=\"row_heading level0 row6\" >6</th> \n",
       "        <td id=\"T_269dc1ba_a77f_11e7_b078_acbc32b10399row6_col0\" class=\"data row6 col0\" >0.08829</td> \n",
       "        <td id=\"T_269dc1ba_a77f_11e7_b078_acbc32b10399row6_col1\" class=\"data row6 col1\" >12.5</td> \n",
       "        <td id=\"T_269dc1ba_a77f_11e7_b078_acbc32b10399row6_col2\" class=\"data row6 col2\" >7.87</td> \n",
       "        <td id=\"T_269dc1ba_a77f_11e7_b078_acbc32b10399row6_col3\" class=\"data row6 col3\" >0</td> \n",
       "        <td id=\"T_269dc1ba_a77f_11e7_b078_acbc32b10399row6_col4\" class=\"data row6 col4\" >0.524</td> \n",
       "        <td id=\"T_269dc1ba_a77f_11e7_b078_acbc32b10399row6_col5\" class=\"data row6 col5\" >6.012</td> \n",
       "        <td id=\"T_269dc1ba_a77f_11e7_b078_acbc32b10399row6_col6\" class=\"data row6 col6\" >66.6</td> \n",
       "        <td id=\"T_269dc1ba_a77f_11e7_b078_acbc32b10399row6_col7\" class=\"data row6 col7\" >5.5605</td> \n",
       "        <td id=\"T_269dc1ba_a77f_11e7_b078_acbc32b10399row6_col8\" class=\"data row6 col8\" >5</td> \n",
       "        <td id=\"T_269dc1ba_a77f_11e7_b078_acbc32b10399row6_col9\" class=\"data row6 col9\" >311</td> \n",
       "        <td id=\"T_269dc1ba_a77f_11e7_b078_acbc32b10399row6_col10\" class=\"data row6 col10\" >15.2</td> \n",
       "        <td id=\"T_269dc1ba_a77f_11e7_b078_acbc32b10399row6_col11\" class=\"data row6 col11\" >395.6</td> \n",
       "        <td id=\"T_269dc1ba_a77f_11e7_b078_acbc32b10399row6_col12\" class=\"data row6 col12\" >12.43</td> \n",
       "    </tr>    <tr> \n",
       "        <th id=\"T_269dc1ba_a77f_11e7_b078_acbc32b10399level0_row7\" class=\"row_heading level0 row7\" >7</th> \n",
       "        <td id=\"T_269dc1ba_a77f_11e7_b078_acbc32b10399row7_col0\" class=\"data row7 col0\" >0.14455</td> \n",
       "        <td id=\"T_269dc1ba_a77f_11e7_b078_acbc32b10399row7_col1\" class=\"data row7 col1\" >12.5</td> \n",
       "        <td id=\"T_269dc1ba_a77f_11e7_b078_acbc32b10399row7_col2\" class=\"data row7 col2\" >7.87</td> \n",
       "        <td id=\"T_269dc1ba_a77f_11e7_b078_acbc32b10399row7_col3\" class=\"data row7 col3\" >0</td> \n",
       "        <td id=\"T_269dc1ba_a77f_11e7_b078_acbc32b10399row7_col4\" class=\"data row7 col4\" >0.524</td> \n",
       "        <td id=\"T_269dc1ba_a77f_11e7_b078_acbc32b10399row7_col5\" class=\"data row7 col5\" >6.172</td> \n",
       "        <td id=\"T_269dc1ba_a77f_11e7_b078_acbc32b10399row7_col6\" class=\"data row7 col6\" >96.1</td> \n",
       "        <td id=\"T_269dc1ba_a77f_11e7_b078_acbc32b10399row7_col7\" class=\"data row7 col7\" >5.9505</td> \n",
       "        <td id=\"T_269dc1ba_a77f_11e7_b078_acbc32b10399row7_col8\" class=\"data row7 col8\" >5</td> \n",
       "        <td id=\"T_269dc1ba_a77f_11e7_b078_acbc32b10399row7_col9\" class=\"data row7 col9\" >311</td> \n",
       "        <td id=\"T_269dc1ba_a77f_11e7_b078_acbc32b10399row7_col10\" class=\"data row7 col10\" >15.2</td> \n",
       "        <td id=\"T_269dc1ba_a77f_11e7_b078_acbc32b10399row7_col11\" class=\"data row7 col11\" >396.9</td> \n",
       "        <td id=\"T_269dc1ba_a77f_11e7_b078_acbc32b10399row7_col12\" class=\"data row7 col12\" >19.15</td> \n",
       "    </tr>    <tr> \n",
       "        <th id=\"T_269dc1ba_a77f_11e7_b078_acbc32b10399level0_row8\" class=\"row_heading level0 row8\" >8</th> \n",
       "        <td id=\"T_269dc1ba_a77f_11e7_b078_acbc32b10399row8_col0\" class=\"data row8 col0\" >0.21124</td> \n",
       "        <td id=\"T_269dc1ba_a77f_11e7_b078_acbc32b10399row8_col1\" class=\"data row8 col1\" >12.5</td> \n",
       "        <td id=\"T_269dc1ba_a77f_11e7_b078_acbc32b10399row8_col2\" class=\"data row8 col2\" >7.87</td> \n",
       "        <td id=\"T_269dc1ba_a77f_11e7_b078_acbc32b10399row8_col3\" class=\"data row8 col3\" >0</td> \n",
       "        <td id=\"T_269dc1ba_a77f_11e7_b078_acbc32b10399row8_col4\" class=\"data row8 col4\" >0.524</td> \n",
       "        <td id=\"T_269dc1ba_a77f_11e7_b078_acbc32b10399row8_col5\" class=\"data row8 col5\" >5.631</td> \n",
       "        <td id=\"T_269dc1ba_a77f_11e7_b078_acbc32b10399row8_col6\" class=\"data row8 col6\" >100</td> \n",
       "        <td id=\"T_269dc1ba_a77f_11e7_b078_acbc32b10399row8_col7\" class=\"data row8 col7\" >6.0821</td> \n",
       "        <td id=\"T_269dc1ba_a77f_11e7_b078_acbc32b10399row8_col8\" class=\"data row8 col8\" >5</td> \n",
       "        <td id=\"T_269dc1ba_a77f_11e7_b078_acbc32b10399row8_col9\" class=\"data row8 col9\" >311</td> \n",
       "        <td id=\"T_269dc1ba_a77f_11e7_b078_acbc32b10399row8_col10\" class=\"data row8 col10\" >15.2</td> \n",
       "        <td id=\"T_269dc1ba_a77f_11e7_b078_acbc32b10399row8_col11\" class=\"data row8 col11\" >386.63</td> \n",
       "        <td id=\"T_269dc1ba_a77f_11e7_b078_acbc32b10399row8_col12\" class=\"data row8 col12\" >29.93</td> \n",
       "    </tr>    <tr> \n",
       "        <th id=\"T_269dc1ba_a77f_11e7_b078_acbc32b10399level0_row9\" class=\"row_heading level0 row9\" >9</th> \n",
       "        <td id=\"T_269dc1ba_a77f_11e7_b078_acbc32b10399row9_col0\" class=\"data row9 col0\" >0.17004</td> \n",
       "        <td id=\"T_269dc1ba_a77f_11e7_b078_acbc32b10399row9_col1\" class=\"data row9 col1\" >12.5</td> \n",
       "        <td id=\"T_269dc1ba_a77f_11e7_b078_acbc32b10399row9_col2\" class=\"data row9 col2\" >7.87</td> \n",
       "        <td id=\"T_269dc1ba_a77f_11e7_b078_acbc32b10399row9_col3\" class=\"data row9 col3\" >0</td> \n",
       "        <td id=\"T_269dc1ba_a77f_11e7_b078_acbc32b10399row9_col4\" class=\"data row9 col4\" >0.524</td> \n",
       "        <td id=\"T_269dc1ba_a77f_11e7_b078_acbc32b10399row9_col5\" class=\"data row9 col5\" >6.004</td> \n",
       "        <td id=\"T_269dc1ba_a77f_11e7_b078_acbc32b10399row9_col6\" class=\"data row9 col6\" >85.9</td> \n",
       "        <td id=\"T_269dc1ba_a77f_11e7_b078_acbc32b10399row9_col7\" class=\"data row9 col7\" >6.5921</td> \n",
       "        <td id=\"T_269dc1ba_a77f_11e7_b078_acbc32b10399row9_col8\" class=\"data row9 col8\" >5</td> \n",
       "        <td id=\"T_269dc1ba_a77f_11e7_b078_acbc32b10399row9_col9\" class=\"data row9 col9\" >311</td> \n",
       "        <td id=\"T_269dc1ba_a77f_11e7_b078_acbc32b10399row9_col10\" class=\"data row9 col10\" >15.2</td> \n",
       "        <td id=\"T_269dc1ba_a77f_11e7_b078_acbc32b10399row9_col11\" class=\"data row9 col11\" >386.71</td> \n",
       "        <td id=\"T_269dc1ba_a77f_11e7_b078_acbc32b10399row9_col12\" class=\"data row9 col12\" >17.1</td> \n",
       "    </tr></tbody> \n",
       "</table> "
      ],
      "text/plain": [
       "<pandas.io.formats.style.Styler at 0x10fafb7f0>"
      ]
     },
     "execution_count": 11,
     "metadata": {},
     "output_type": "execute_result"
    }
   ],
   "source": [
    "hdf = df.head(10)\n",
    "hdf.style.background_gradient()"
   ]
  },
  {
   "cell_type": "code",
   "execution_count": 12,
   "metadata": {
    "collapsed": true
   },
   "outputs": [],
   "source": [
    "def top20(col):\n",
    "    is_top20 = col > col.quantile(.8)\n",
    "    return ['font-weight: bold' if v else '' for v in is_top20]"
   ]
  },
  {
   "cell_type": "code",
   "execution_count": 13,
   "metadata": {},
   "outputs": [
    {
     "data": {
      "text/html": [
       "<style  type=\"text/css\" >\n",
       "    #T_26db2712_a77f_11e7_b75b_acbc32b10399row0_col1 {\n",
       "            font-weight:  bold;\n",
       "        }    #T_26db2712_a77f_11e7_b75b_acbc32b10399row0_col4 {\n",
       "            font-weight:  bold;\n",
       "        }    #T_26db2712_a77f_11e7_b75b_acbc32b10399row2_col5 {\n",
       "            font-weight:  bold;\n",
       "        }    #T_26db2712_a77f_11e7_b75b_acbc32b10399row4_col5 {\n",
       "            font-weight:  bold;\n",
       "        }    #T_26db2712_a77f_11e7_b75b_acbc32b10399row7_col6 {\n",
       "            font-weight:  bold;\n",
       "        }    #T_26db2712_a77f_11e7_b75b_acbc32b10399row7_col12 {\n",
       "            font-weight:  bold;\n",
       "        }    #T_26db2712_a77f_11e7_b75b_acbc32b10399row8_col0 {\n",
       "            font-weight:  bold;\n",
       "        }    #T_26db2712_a77f_11e7_b75b_acbc32b10399row8_col6 {\n",
       "            font-weight:  bold;\n",
       "        }    #T_26db2712_a77f_11e7_b75b_acbc32b10399row8_col7 {\n",
       "            font-weight:  bold;\n",
       "        }    #T_26db2712_a77f_11e7_b75b_acbc32b10399row8_col12 {\n",
       "            font-weight:  bold;\n",
       "        }    #T_26db2712_a77f_11e7_b75b_acbc32b10399row9_col0 {\n",
       "            font-weight:  bold;\n",
       "        }    #T_26db2712_a77f_11e7_b75b_acbc32b10399row9_col7 {\n",
       "            font-weight:  bold;\n",
       "        }</style>  \n",
       "<table id=\"T_26db2712_a77f_11e7_b75b_acbc32b10399\" > \n",
       "<thead>    <tr> \n",
       "        <th class=\"blank level0\" ></th> \n",
       "        <th class=\"col_heading level0 col0\" >CRIM</th> \n",
       "        <th class=\"col_heading level0 col1\" >ZN</th> \n",
       "        <th class=\"col_heading level0 col2\" >INDUS</th> \n",
       "        <th class=\"col_heading level0 col3\" >CHAS</th> \n",
       "        <th class=\"col_heading level0 col4\" >NOX</th> \n",
       "        <th class=\"col_heading level0 col5\" >RM</th> \n",
       "        <th class=\"col_heading level0 col6\" >AGE</th> \n",
       "        <th class=\"col_heading level0 col7\" >DIS</th> \n",
       "        <th class=\"col_heading level0 col8\" >RAD</th> \n",
       "        <th class=\"col_heading level0 col9\" >TAX</th> \n",
       "        <th class=\"col_heading level0 col10\" >PTRATIO</th> \n",
       "        <th class=\"col_heading level0 col11\" >B</th> \n",
       "        <th class=\"col_heading level0 col12\" >LSTAT</th> \n",
       "    </tr></thead> \n",
       "<tbody>    <tr> \n",
       "        <th id=\"T_26db2712_a77f_11e7_b75b_acbc32b10399level0_row0\" class=\"row_heading level0 row0\" >0</th> \n",
       "        <td id=\"T_26db2712_a77f_11e7_b75b_acbc32b10399row0_col0\" class=\"data row0 col0\" >0.00632</td> \n",
       "        <td id=\"T_26db2712_a77f_11e7_b75b_acbc32b10399row0_col1\" class=\"data row0 col1\" >18</td> \n",
       "        <td id=\"T_26db2712_a77f_11e7_b75b_acbc32b10399row0_col2\" class=\"data row0 col2\" >2.31</td> \n",
       "        <td id=\"T_26db2712_a77f_11e7_b75b_acbc32b10399row0_col3\" class=\"data row0 col3\" >0</td> \n",
       "        <td id=\"T_26db2712_a77f_11e7_b75b_acbc32b10399row0_col4\" class=\"data row0 col4\" >0.538</td> \n",
       "        <td id=\"T_26db2712_a77f_11e7_b75b_acbc32b10399row0_col5\" class=\"data row0 col5\" >6.575</td> \n",
       "        <td id=\"T_26db2712_a77f_11e7_b75b_acbc32b10399row0_col6\" class=\"data row0 col6\" >65.2</td> \n",
       "        <td id=\"T_26db2712_a77f_11e7_b75b_acbc32b10399row0_col7\" class=\"data row0 col7\" >4.09</td> \n",
       "        <td id=\"T_26db2712_a77f_11e7_b75b_acbc32b10399row0_col8\" class=\"data row0 col8\" >1</td> \n",
       "        <td id=\"T_26db2712_a77f_11e7_b75b_acbc32b10399row0_col9\" class=\"data row0 col9\" >296</td> \n",
       "        <td id=\"T_26db2712_a77f_11e7_b75b_acbc32b10399row0_col10\" class=\"data row0 col10\" >15.3</td> \n",
       "        <td id=\"T_26db2712_a77f_11e7_b75b_acbc32b10399row0_col11\" class=\"data row0 col11\" >396.9</td> \n",
       "        <td id=\"T_26db2712_a77f_11e7_b75b_acbc32b10399row0_col12\" class=\"data row0 col12\" >4.98</td> \n",
       "    </tr>    <tr> \n",
       "        <th id=\"T_26db2712_a77f_11e7_b75b_acbc32b10399level0_row1\" class=\"row_heading level0 row1\" >1</th> \n",
       "        <td id=\"T_26db2712_a77f_11e7_b75b_acbc32b10399row1_col0\" class=\"data row1 col0\" >0.02731</td> \n",
       "        <td id=\"T_26db2712_a77f_11e7_b75b_acbc32b10399row1_col1\" class=\"data row1 col1\" >0</td> \n",
       "        <td id=\"T_26db2712_a77f_11e7_b75b_acbc32b10399row1_col2\" class=\"data row1 col2\" >7.07</td> \n",
       "        <td id=\"T_26db2712_a77f_11e7_b75b_acbc32b10399row1_col3\" class=\"data row1 col3\" >0</td> \n",
       "        <td id=\"T_26db2712_a77f_11e7_b75b_acbc32b10399row1_col4\" class=\"data row1 col4\" >0.469</td> \n",
       "        <td id=\"T_26db2712_a77f_11e7_b75b_acbc32b10399row1_col5\" class=\"data row1 col5\" >6.421</td> \n",
       "        <td id=\"T_26db2712_a77f_11e7_b75b_acbc32b10399row1_col6\" class=\"data row1 col6\" >78.9</td> \n",
       "        <td id=\"T_26db2712_a77f_11e7_b75b_acbc32b10399row1_col7\" class=\"data row1 col7\" >4.9671</td> \n",
       "        <td id=\"T_26db2712_a77f_11e7_b75b_acbc32b10399row1_col8\" class=\"data row1 col8\" >2</td> \n",
       "        <td id=\"T_26db2712_a77f_11e7_b75b_acbc32b10399row1_col9\" class=\"data row1 col9\" >242</td> \n",
       "        <td id=\"T_26db2712_a77f_11e7_b75b_acbc32b10399row1_col10\" class=\"data row1 col10\" >17.8</td> \n",
       "        <td id=\"T_26db2712_a77f_11e7_b75b_acbc32b10399row1_col11\" class=\"data row1 col11\" >396.9</td> \n",
       "        <td id=\"T_26db2712_a77f_11e7_b75b_acbc32b10399row1_col12\" class=\"data row1 col12\" >9.14</td> \n",
       "    </tr>    <tr> \n",
       "        <th id=\"T_26db2712_a77f_11e7_b75b_acbc32b10399level0_row2\" class=\"row_heading level0 row2\" >2</th> \n",
       "        <td id=\"T_26db2712_a77f_11e7_b75b_acbc32b10399row2_col0\" class=\"data row2 col0\" >0.02729</td> \n",
       "        <td id=\"T_26db2712_a77f_11e7_b75b_acbc32b10399row2_col1\" class=\"data row2 col1\" >0</td> \n",
       "        <td id=\"T_26db2712_a77f_11e7_b75b_acbc32b10399row2_col2\" class=\"data row2 col2\" >7.07</td> \n",
       "        <td id=\"T_26db2712_a77f_11e7_b75b_acbc32b10399row2_col3\" class=\"data row2 col3\" >0</td> \n",
       "        <td id=\"T_26db2712_a77f_11e7_b75b_acbc32b10399row2_col4\" class=\"data row2 col4\" >0.469</td> \n",
       "        <td id=\"T_26db2712_a77f_11e7_b75b_acbc32b10399row2_col5\" class=\"data row2 col5\" >7.185</td> \n",
       "        <td id=\"T_26db2712_a77f_11e7_b75b_acbc32b10399row2_col6\" class=\"data row2 col6\" >61.1</td> \n",
       "        <td id=\"T_26db2712_a77f_11e7_b75b_acbc32b10399row2_col7\" class=\"data row2 col7\" >4.9671</td> \n",
       "        <td id=\"T_26db2712_a77f_11e7_b75b_acbc32b10399row2_col8\" class=\"data row2 col8\" >2</td> \n",
       "        <td id=\"T_26db2712_a77f_11e7_b75b_acbc32b10399row2_col9\" class=\"data row2 col9\" >242</td> \n",
       "        <td id=\"T_26db2712_a77f_11e7_b75b_acbc32b10399row2_col10\" class=\"data row2 col10\" >17.8</td> \n",
       "        <td id=\"T_26db2712_a77f_11e7_b75b_acbc32b10399row2_col11\" class=\"data row2 col11\" >392.83</td> \n",
       "        <td id=\"T_26db2712_a77f_11e7_b75b_acbc32b10399row2_col12\" class=\"data row2 col12\" >4.03</td> \n",
       "    </tr>    <tr> \n",
       "        <th id=\"T_26db2712_a77f_11e7_b75b_acbc32b10399level0_row3\" class=\"row_heading level0 row3\" >3</th> \n",
       "        <td id=\"T_26db2712_a77f_11e7_b75b_acbc32b10399row3_col0\" class=\"data row3 col0\" >0.03237</td> \n",
       "        <td id=\"T_26db2712_a77f_11e7_b75b_acbc32b10399row3_col1\" class=\"data row3 col1\" >0</td> \n",
       "        <td id=\"T_26db2712_a77f_11e7_b75b_acbc32b10399row3_col2\" class=\"data row3 col2\" >2.18</td> \n",
       "        <td id=\"T_26db2712_a77f_11e7_b75b_acbc32b10399row3_col3\" class=\"data row3 col3\" >0</td> \n",
       "        <td id=\"T_26db2712_a77f_11e7_b75b_acbc32b10399row3_col4\" class=\"data row3 col4\" >0.458</td> \n",
       "        <td id=\"T_26db2712_a77f_11e7_b75b_acbc32b10399row3_col5\" class=\"data row3 col5\" >6.998</td> \n",
       "        <td id=\"T_26db2712_a77f_11e7_b75b_acbc32b10399row3_col6\" class=\"data row3 col6\" >45.8</td> \n",
       "        <td id=\"T_26db2712_a77f_11e7_b75b_acbc32b10399row3_col7\" class=\"data row3 col7\" >6.0622</td> \n",
       "        <td id=\"T_26db2712_a77f_11e7_b75b_acbc32b10399row3_col8\" class=\"data row3 col8\" >3</td> \n",
       "        <td id=\"T_26db2712_a77f_11e7_b75b_acbc32b10399row3_col9\" class=\"data row3 col9\" >222</td> \n",
       "        <td id=\"T_26db2712_a77f_11e7_b75b_acbc32b10399row3_col10\" class=\"data row3 col10\" >18.7</td> \n",
       "        <td id=\"T_26db2712_a77f_11e7_b75b_acbc32b10399row3_col11\" class=\"data row3 col11\" >394.63</td> \n",
       "        <td id=\"T_26db2712_a77f_11e7_b75b_acbc32b10399row3_col12\" class=\"data row3 col12\" >2.94</td> \n",
       "    </tr>    <tr> \n",
       "        <th id=\"T_26db2712_a77f_11e7_b75b_acbc32b10399level0_row4\" class=\"row_heading level0 row4\" >4</th> \n",
       "        <td id=\"T_26db2712_a77f_11e7_b75b_acbc32b10399row4_col0\" class=\"data row4 col0\" >0.06905</td> \n",
       "        <td id=\"T_26db2712_a77f_11e7_b75b_acbc32b10399row4_col1\" class=\"data row4 col1\" >0</td> \n",
       "        <td id=\"T_26db2712_a77f_11e7_b75b_acbc32b10399row4_col2\" class=\"data row4 col2\" >2.18</td> \n",
       "        <td id=\"T_26db2712_a77f_11e7_b75b_acbc32b10399row4_col3\" class=\"data row4 col3\" >0</td> \n",
       "        <td id=\"T_26db2712_a77f_11e7_b75b_acbc32b10399row4_col4\" class=\"data row4 col4\" >0.458</td> \n",
       "        <td id=\"T_26db2712_a77f_11e7_b75b_acbc32b10399row4_col5\" class=\"data row4 col5\" >7.147</td> \n",
       "        <td id=\"T_26db2712_a77f_11e7_b75b_acbc32b10399row4_col6\" class=\"data row4 col6\" >54.2</td> \n",
       "        <td id=\"T_26db2712_a77f_11e7_b75b_acbc32b10399row4_col7\" class=\"data row4 col7\" >6.0622</td> \n",
       "        <td id=\"T_26db2712_a77f_11e7_b75b_acbc32b10399row4_col8\" class=\"data row4 col8\" >3</td> \n",
       "        <td id=\"T_26db2712_a77f_11e7_b75b_acbc32b10399row4_col9\" class=\"data row4 col9\" >222</td> \n",
       "        <td id=\"T_26db2712_a77f_11e7_b75b_acbc32b10399row4_col10\" class=\"data row4 col10\" >18.7</td> \n",
       "        <td id=\"T_26db2712_a77f_11e7_b75b_acbc32b10399row4_col11\" class=\"data row4 col11\" >396.9</td> \n",
       "        <td id=\"T_26db2712_a77f_11e7_b75b_acbc32b10399row4_col12\" class=\"data row4 col12\" >5.33</td> \n",
       "    </tr>    <tr> \n",
       "        <th id=\"T_26db2712_a77f_11e7_b75b_acbc32b10399level0_row5\" class=\"row_heading level0 row5\" >5</th> \n",
       "        <td id=\"T_26db2712_a77f_11e7_b75b_acbc32b10399row5_col0\" class=\"data row5 col0\" >0.02985</td> \n",
       "        <td id=\"T_26db2712_a77f_11e7_b75b_acbc32b10399row5_col1\" class=\"data row5 col1\" >0</td> \n",
       "        <td id=\"T_26db2712_a77f_11e7_b75b_acbc32b10399row5_col2\" class=\"data row5 col2\" >2.18</td> \n",
       "        <td id=\"T_26db2712_a77f_11e7_b75b_acbc32b10399row5_col3\" class=\"data row5 col3\" >0</td> \n",
       "        <td id=\"T_26db2712_a77f_11e7_b75b_acbc32b10399row5_col4\" class=\"data row5 col4\" >0.458</td> \n",
       "        <td id=\"T_26db2712_a77f_11e7_b75b_acbc32b10399row5_col5\" class=\"data row5 col5\" >6.43</td> \n",
       "        <td id=\"T_26db2712_a77f_11e7_b75b_acbc32b10399row5_col6\" class=\"data row5 col6\" >58.7</td> \n",
       "        <td id=\"T_26db2712_a77f_11e7_b75b_acbc32b10399row5_col7\" class=\"data row5 col7\" >6.0622</td> \n",
       "        <td id=\"T_26db2712_a77f_11e7_b75b_acbc32b10399row5_col8\" class=\"data row5 col8\" >3</td> \n",
       "        <td id=\"T_26db2712_a77f_11e7_b75b_acbc32b10399row5_col9\" class=\"data row5 col9\" >222</td> \n",
       "        <td id=\"T_26db2712_a77f_11e7_b75b_acbc32b10399row5_col10\" class=\"data row5 col10\" >18.7</td> \n",
       "        <td id=\"T_26db2712_a77f_11e7_b75b_acbc32b10399row5_col11\" class=\"data row5 col11\" >394.12</td> \n",
       "        <td id=\"T_26db2712_a77f_11e7_b75b_acbc32b10399row5_col12\" class=\"data row5 col12\" >5.21</td> \n",
       "    </tr>    <tr> \n",
       "        <th id=\"T_26db2712_a77f_11e7_b75b_acbc32b10399level0_row6\" class=\"row_heading level0 row6\" >6</th> \n",
       "        <td id=\"T_26db2712_a77f_11e7_b75b_acbc32b10399row6_col0\" class=\"data row6 col0\" >0.08829</td> \n",
       "        <td id=\"T_26db2712_a77f_11e7_b75b_acbc32b10399row6_col1\" class=\"data row6 col1\" >12.5</td> \n",
       "        <td id=\"T_26db2712_a77f_11e7_b75b_acbc32b10399row6_col2\" class=\"data row6 col2\" >7.87</td> \n",
       "        <td id=\"T_26db2712_a77f_11e7_b75b_acbc32b10399row6_col3\" class=\"data row6 col3\" >0</td> \n",
       "        <td id=\"T_26db2712_a77f_11e7_b75b_acbc32b10399row6_col4\" class=\"data row6 col4\" >0.524</td> \n",
       "        <td id=\"T_26db2712_a77f_11e7_b75b_acbc32b10399row6_col5\" class=\"data row6 col5\" >6.012</td> \n",
       "        <td id=\"T_26db2712_a77f_11e7_b75b_acbc32b10399row6_col6\" class=\"data row6 col6\" >66.6</td> \n",
       "        <td id=\"T_26db2712_a77f_11e7_b75b_acbc32b10399row6_col7\" class=\"data row6 col7\" >5.5605</td> \n",
       "        <td id=\"T_26db2712_a77f_11e7_b75b_acbc32b10399row6_col8\" class=\"data row6 col8\" >5</td> \n",
       "        <td id=\"T_26db2712_a77f_11e7_b75b_acbc32b10399row6_col9\" class=\"data row6 col9\" >311</td> \n",
       "        <td id=\"T_26db2712_a77f_11e7_b75b_acbc32b10399row6_col10\" class=\"data row6 col10\" >15.2</td> \n",
       "        <td id=\"T_26db2712_a77f_11e7_b75b_acbc32b10399row6_col11\" class=\"data row6 col11\" >395.6</td> \n",
       "        <td id=\"T_26db2712_a77f_11e7_b75b_acbc32b10399row6_col12\" class=\"data row6 col12\" >12.43</td> \n",
       "    </tr>    <tr> \n",
       "        <th id=\"T_26db2712_a77f_11e7_b75b_acbc32b10399level0_row7\" class=\"row_heading level0 row7\" >7</th> \n",
       "        <td id=\"T_26db2712_a77f_11e7_b75b_acbc32b10399row7_col0\" class=\"data row7 col0\" >0.14455</td> \n",
       "        <td id=\"T_26db2712_a77f_11e7_b75b_acbc32b10399row7_col1\" class=\"data row7 col1\" >12.5</td> \n",
       "        <td id=\"T_26db2712_a77f_11e7_b75b_acbc32b10399row7_col2\" class=\"data row7 col2\" >7.87</td> \n",
       "        <td id=\"T_26db2712_a77f_11e7_b75b_acbc32b10399row7_col3\" class=\"data row7 col3\" >0</td> \n",
       "        <td id=\"T_26db2712_a77f_11e7_b75b_acbc32b10399row7_col4\" class=\"data row7 col4\" >0.524</td> \n",
       "        <td id=\"T_26db2712_a77f_11e7_b75b_acbc32b10399row7_col5\" class=\"data row7 col5\" >6.172</td> \n",
       "        <td id=\"T_26db2712_a77f_11e7_b75b_acbc32b10399row7_col6\" class=\"data row7 col6\" >96.1</td> \n",
       "        <td id=\"T_26db2712_a77f_11e7_b75b_acbc32b10399row7_col7\" class=\"data row7 col7\" >5.9505</td> \n",
       "        <td id=\"T_26db2712_a77f_11e7_b75b_acbc32b10399row7_col8\" class=\"data row7 col8\" >5</td> \n",
       "        <td id=\"T_26db2712_a77f_11e7_b75b_acbc32b10399row7_col9\" class=\"data row7 col9\" >311</td> \n",
       "        <td id=\"T_26db2712_a77f_11e7_b75b_acbc32b10399row7_col10\" class=\"data row7 col10\" >15.2</td> \n",
       "        <td id=\"T_26db2712_a77f_11e7_b75b_acbc32b10399row7_col11\" class=\"data row7 col11\" >396.9</td> \n",
       "        <td id=\"T_26db2712_a77f_11e7_b75b_acbc32b10399row7_col12\" class=\"data row7 col12\" >19.15</td> \n",
       "    </tr>    <tr> \n",
       "        <th id=\"T_26db2712_a77f_11e7_b75b_acbc32b10399level0_row8\" class=\"row_heading level0 row8\" >8</th> \n",
       "        <td id=\"T_26db2712_a77f_11e7_b75b_acbc32b10399row8_col0\" class=\"data row8 col0\" >0.21124</td> \n",
       "        <td id=\"T_26db2712_a77f_11e7_b75b_acbc32b10399row8_col1\" class=\"data row8 col1\" >12.5</td> \n",
       "        <td id=\"T_26db2712_a77f_11e7_b75b_acbc32b10399row8_col2\" class=\"data row8 col2\" >7.87</td> \n",
       "        <td id=\"T_26db2712_a77f_11e7_b75b_acbc32b10399row8_col3\" class=\"data row8 col3\" >0</td> \n",
       "        <td id=\"T_26db2712_a77f_11e7_b75b_acbc32b10399row8_col4\" class=\"data row8 col4\" >0.524</td> \n",
       "        <td id=\"T_26db2712_a77f_11e7_b75b_acbc32b10399row8_col5\" class=\"data row8 col5\" >5.631</td> \n",
       "        <td id=\"T_26db2712_a77f_11e7_b75b_acbc32b10399row8_col6\" class=\"data row8 col6\" >100</td> \n",
       "        <td id=\"T_26db2712_a77f_11e7_b75b_acbc32b10399row8_col7\" class=\"data row8 col7\" >6.0821</td> \n",
       "        <td id=\"T_26db2712_a77f_11e7_b75b_acbc32b10399row8_col8\" class=\"data row8 col8\" >5</td> \n",
       "        <td id=\"T_26db2712_a77f_11e7_b75b_acbc32b10399row8_col9\" class=\"data row8 col9\" >311</td> \n",
       "        <td id=\"T_26db2712_a77f_11e7_b75b_acbc32b10399row8_col10\" class=\"data row8 col10\" >15.2</td> \n",
       "        <td id=\"T_26db2712_a77f_11e7_b75b_acbc32b10399row8_col11\" class=\"data row8 col11\" >386.63</td> \n",
       "        <td id=\"T_26db2712_a77f_11e7_b75b_acbc32b10399row8_col12\" class=\"data row8 col12\" >29.93</td> \n",
       "    </tr>    <tr> \n",
       "        <th id=\"T_26db2712_a77f_11e7_b75b_acbc32b10399level0_row9\" class=\"row_heading level0 row9\" >9</th> \n",
       "        <td id=\"T_26db2712_a77f_11e7_b75b_acbc32b10399row9_col0\" class=\"data row9 col0\" >0.17004</td> \n",
       "        <td id=\"T_26db2712_a77f_11e7_b75b_acbc32b10399row9_col1\" class=\"data row9 col1\" >12.5</td> \n",
       "        <td id=\"T_26db2712_a77f_11e7_b75b_acbc32b10399row9_col2\" class=\"data row9 col2\" >7.87</td> \n",
       "        <td id=\"T_26db2712_a77f_11e7_b75b_acbc32b10399row9_col3\" class=\"data row9 col3\" >0</td> \n",
       "        <td id=\"T_26db2712_a77f_11e7_b75b_acbc32b10399row9_col4\" class=\"data row9 col4\" >0.524</td> \n",
       "        <td id=\"T_26db2712_a77f_11e7_b75b_acbc32b10399row9_col5\" class=\"data row9 col5\" >6.004</td> \n",
       "        <td id=\"T_26db2712_a77f_11e7_b75b_acbc32b10399row9_col6\" class=\"data row9 col6\" >85.9</td> \n",
       "        <td id=\"T_26db2712_a77f_11e7_b75b_acbc32b10399row9_col7\" class=\"data row9 col7\" >6.5921</td> \n",
       "        <td id=\"T_26db2712_a77f_11e7_b75b_acbc32b10399row9_col8\" class=\"data row9 col8\" >5</td> \n",
       "        <td id=\"T_26db2712_a77f_11e7_b75b_acbc32b10399row9_col9\" class=\"data row9 col9\" >311</td> \n",
       "        <td id=\"T_26db2712_a77f_11e7_b75b_acbc32b10399row9_col10\" class=\"data row9 col10\" >15.2</td> \n",
       "        <td id=\"T_26db2712_a77f_11e7_b75b_acbc32b10399row9_col11\" class=\"data row9 col11\" >386.71</td> \n",
       "        <td id=\"T_26db2712_a77f_11e7_b75b_acbc32b10399row9_col12\" class=\"data row9 col12\" >17.1</td> \n",
       "    </tr></tbody> \n",
       "</table> "
      ],
      "text/plain": [
       "<pandas.io.formats.style.Styler at 0x10fd7da20>"
      ]
     },
     "execution_count": 13,
     "metadata": {},
     "output_type": "execute_result"
    }
   ],
   "source": [
    "hdf.style.apply(top20)"
   ]
  },
  {
   "cell_type": "markdown",
   "metadata": {},
   "source": [
    "# Now apply some Machine Learning"
   ]
  },
  {
   "cell_type": "code",
   "execution_count": 14,
   "metadata": {
    "collapsed": true
   },
   "outputs": [],
   "source": [
    "#split data\n",
    "from sklearn.model_selection import train_test_split"
   ]
  },
  {
   "cell_type": "code",
   "execution_count": 15,
   "metadata": {},
   "outputs": [],
   "source": [
    "X_train, X_test, y_train, y_test = train_test_split(boston['data'], boston['target'], test_size=0.3)"
   ]
  },
  {
   "cell_type": "code",
   "execution_count": 16,
   "metadata": {
    "collapsed": true
   },
   "outputs": [],
   "source": [
    "from sklearn.ensemble import RandomForestRegressor"
   ]
  },
  {
   "cell_type": "code",
   "execution_count": 17,
   "metadata": {},
   "outputs": [
    {
     "data": {
      "text/plain": [
       "0.87030544179091329"
      ]
     },
     "execution_count": 17,
     "metadata": {},
     "output_type": "execute_result"
    }
   ],
   "source": [
    "reg = RandomForestRegressor()\n",
    "reg.fit(X_train, y_train)\n",
    "reg.score(X_test, y_test)"
   ]
  },
  {
   "cell_type": "code",
   "execution_count": 18,
   "metadata": {
    "collapsed": true
   },
   "outputs": [],
   "source": [
    "reg.score?"
   ]
  },
  {
   "cell_type": "raw",
   "metadata": {},
   "source": [
    "dir(reg)"
   ]
  },
  {
   "cell_type": "code",
   "execution_count": 19,
   "metadata": {},
   "outputs": [
    {
     "data": {
      "text/plain": [
       "13"
      ]
     },
     "execution_count": 19,
     "metadata": {},
     "output_type": "execute_result"
    }
   ],
   "source": [
    "#number of features\n",
    "reg.n_features_"
   ]
  },
  {
   "cell_type": "code",
   "execution_count": 24,
   "metadata": {},
   "outputs": [
    {
     "data": {
      "text/plain": [
       "(354, 13)"
      ]
     },
     "execution_count": 24,
     "metadata": {},
     "output_type": "execute_result"
    }
   ],
   "source": [
    "#number of features consistant\n",
    "X_train.shape"
   ]
  },
  {
   "cell_type": "code",
   "execution_count": 25,
   "metadata": {},
   "outputs": [
    {
     "data": {
      "text/plain": [
       "(13,)"
      ]
     },
     "execution_count": 25,
     "metadata": {},
     "output_type": "execute_result"
    }
   ],
   "source": [
    "row = X_train[17]\n",
    "row.shape"
   ]
  },
  {
   "cell_type": "code",
   "execution_count": 26,
   "metadata": {},
   "outputs": [
    {
     "data": {
      "text/plain": [
       "array([[   8.26725,    0.     ,   18.1    ,    1.     ,    0.668  ,\n",
       "           5.875  ,   89.6    ,    1.1296 ,   24.     ,  666.     ,\n",
       "          20.2    ,  347.88   ,    8.88   ]])"
      ]
     },
     "execution_count": 26,
     "metadata": {},
     "output_type": "execute_result"
    }
   ],
   "source": [
    "row.reshape(-1, 13)"
   ]
  },
  {
   "cell_type": "code",
   "execution_count": 29,
   "metadata": {},
   "outputs": [
    {
     "data": {
      "text/plain": [
       "array([ 40.37])"
      ]
     },
     "execution_count": 29,
     "metadata": {},
     "output_type": "execute_result"
    }
   ],
   "source": [
    "#prediction value\n",
    "reg.predict(row.reshape(-1, 13))"
   ]
  },
  {
   "cell_type": "code",
   "execution_count": 30,
   "metadata": {},
   "outputs": [
    {
     "data": {
      "text/plain": [
       "50.0"
      ]
     },
     "execution_count": 30,
     "metadata": {},
     "output_type": "execute_result"
    }
   ],
   "source": [
    "#actual value\n",
    "y_train[17]"
   ]
  },
  {
   "cell_type": "code",
   "execution_count": 31,
   "metadata": {
    "collapsed": true
   },
   "outputs": [],
   "source": [
    "#Support Vector Regression\n",
    "from sklearn.svm import SVR"
   ]
  },
  {
   "cell_type": "code",
   "execution_count": 32,
   "metadata": {},
   "outputs": [
    {
     "data": {
      "text/plain": [
       "-0.0019768721924964261"
      ]
     },
     "execution_count": 32,
     "metadata": {},
     "output_type": "execute_result"
    }
   ],
   "source": [
    "reg = SVR()\n",
    "reg.fit(X_train, y_train)\n",
    "reg.score(X_test, y_test)"
   ]
  },
  {
   "cell_type": "markdown",
   "metadata": {},
   "source": [
    "Not good!"
   ]
  },
  {
   "cell_type": "code",
   "execution_count": 33,
   "metadata": {
    "collapsed": true
   },
   "outputs": [],
   "source": [
    "#scale data\n",
    "from sklearn import preprocessing\n",
    "Xs = preprocessing.scale(boston['data'])"
   ]
  },
  {
   "cell_type": "code",
   "execution_count": 34,
   "metadata": {
    "collapsed": true
   },
   "outputs": [],
   "source": [
    "Xs_train, Xs_test, ys_train, ys_test = train_test_split(Xs, boston['target'], test_size=0.3)"
   ]
  },
  {
   "cell_type": "code",
   "execution_count": 35,
   "metadata": {},
   "outputs": [
    {
     "data": {
      "text/plain": [
       "CRIM       9.941735\n",
       "ZN         3.804234\n",
       "INDUS      2.422565\n",
       "CHAS       3.668398\n",
       "NOX        2.732346\n",
       "RM         3.555044\n",
       "AGE        1.117494\n",
       "DIS        3.960518\n",
       "RAD        1.661245\n",
       "TAX        1.798194\n",
       "PTRATIO    1.638828\n",
       "B          0.441052\n",
       "LSTAT      3.548771\n",
       "dtype: float64"
      ]
     },
     "execution_count": 35,
     "metadata": {},
     "output_type": "execute_result"
    }
   ],
   "source": [
    "df = pd.DataFrame(Xs, columns=boston['feature_names'])\n",
    "df.max(axis=0)"
   ]
  },
  {
   "cell_type": "code",
   "execution_count": 36,
   "metadata": {},
   "outputs": [
    {
     "data": {
      "text/plain": [
       "0.55526597756760854"
      ]
     },
     "execution_count": 36,
     "metadata": {},
     "output_type": "execute_result"
    }
   ],
   "source": [
    "reg = SVR()\n",
    "reg.fit(Xs_train, ys_train)\n",
    "reg.score(Xs_test, ys_test)"
   ]
  },
  {
   "cell_type": "markdown",
   "metadata": {},
   "source": [
    "Much improved score after scaling"
   ]
  },
  {
   "cell_type": "markdown",
   "metadata": {},
   "source": [
    "# Dimension Reduction"
   ]
  },
  {
   "cell_type": "code",
   "execution_count": 37,
   "metadata": {
    "collapsed": true
   },
   "outputs": [],
   "source": [
    "#Principal Component Analysis\n",
    "from sklearn.decomposition import PCA"
   ]
  },
  {
   "cell_type": "code",
   "execution_count": 38,
   "metadata": {},
   "outputs": [
    {
     "data": {
      "text/plain": [
       "PCA(copy=True, iterated_power='auto', n_components=5, random_state=None,\n",
       "  svd_solver='auto', tol=0.0, whiten=False)"
      ]
     },
     "execution_count": 38,
     "metadata": {},
     "output_type": "execute_result"
    }
   ],
   "source": [
    "#Reduce dimensions 13 ->5\n",
    "pca = PCA(n_components=5)\n",
    "pca.fit(boston['data'])"
   ]
  },
  {
   "cell_type": "code",
   "execution_count": 39,
   "metadata": {},
   "outputs": [
    {
     "data": {
      "text/plain": [
       "(506, 5)"
      ]
     },
     "execution_count": 39,
     "metadata": {},
     "output_type": "execute_result"
    }
   ],
   "source": [
    "Xp = pca.transform(boston['data'])\n",
    "Xp.shape"
   ]
  },
  {
   "cell_type": "code",
   "execution_count": 40,
   "metadata": {},
   "outputs": [
    {
     "data": {
      "text/plain": [
       "0.53161065377201178"
      ]
     },
     "execution_count": 40,
     "metadata": {},
     "output_type": "execute_result"
    }
   ],
   "source": [
    "reg = RandomForestRegressor()\n",
    "Xp_train, Xp_test, yp_train, yp_test = train_test_split(Xp, boston['target'], test_size=0.3)\n",
    "reg.fit(Xp_train, yp_train)\n",
    "reg.score(Xp_test, yp_test)"
   ]
  },
  {
   "cell_type": "markdown",
   "metadata": {},
   "source": [
    "Random Forest not as good performance with reduced dimensions, in this case"
   ]
  },
  {
   "cell_type": "code",
   "execution_count": 41,
   "metadata": {
    "collapsed": true
   },
   "outputs": [],
   "source": [
    "#Standardize features by removing the mean and scaling to unit variance\n",
    "#Pipeline of transforms with a final estimator. Sequentially apply a list of transforms and a final estimator.\n",
    "\n",
    "from sklearn.preprocessing import StandardScaler\n",
    "from sklearn.pipeline import Pipeline"
   ]
  },
  {
   "cell_type": "code",
   "execution_count": 42,
   "metadata": {
    "collapsed": true
   },
   "outputs": [],
   "source": [
    "pipe = Pipeline([\n",
    "    ('scale', StandardScaler()),\n",
    "    ('pca', PCA(n_components=5)),\n",
    "    ('svr', SVR()),\n",
    "])"
   ]
  },
  {
   "cell_type": "code",
   "execution_count": 43,
   "metadata": {},
   "outputs": [
    {
     "data": {
      "text/plain": [
       "0.49125501859540871"
      ]
     },
     "execution_count": 43,
     "metadata": {},
     "output_type": "execute_result"
    }
   ],
   "source": [
    "pipe.fit(X_train, y_train)\n",
    "pipe.score(X_test, y_test)"
   ]
  },
  {
   "cell_type": "code",
   "execution_count": 44,
   "metadata": {},
   "outputs": [
    {
     "data": {
      "text/plain": [
       "[('scale', StandardScaler(copy=True, with_mean=True, with_std=True)),\n",
       " ('pca',\n",
       "  PCA(copy=True, iterated_power='auto', n_components=5, random_state=None,\n",
       "    svd_solver='auto', tol=0.0, whiten=False)),\n",
       " ('svr',\n",
       "  SVR(C=1.0, cache_size=200, coef0=0.0, degree=3, epsilon=0.1, gamma='auto',\n",
       "    kernel='rbf', max_iter=-1, shrinking=True, tol=0.001, verbose=False))]"
      ]
     },
     "execution_count": 44,
     "metadata": {},
     "output_type": "execute_result"
    }
   ],
   "source": [
    "pipe.steps"
   ]
  },
  {
   "cell_type": "code",
   "execution_count": 45,
   "metadata": {},
   "outputs": [
    {
     "data": {
      "text/plain": [
       "{'pca': PCA(copy=True, iterated_power='auto', n_components=5, random_state=None,\n",
       "   svd_solver='auto', tol=0.0, whiten=False),\n",
       " 'pca__copy': True,\n",
       " 'pca__iterated_power': 'auto',\n",
       " 'pca__n_components': 5,\n",
       " 'pca__random_state': None,\n",
       " 'pca__svd_solver': 'auto',\n",
       " 'pca__tol': 0.0,\n",
       " 'pca__whiten': False,\n",
       " 'scale': StandardScaler(copy=True, with_mean=True, with_std=True),\n",
       " 'scale__copy': True,\n",
       " 'scale__with_mean': True,\n",
       " 'scale__with_std': True,\n",
       " 'steps': [('scale', StandardScaler(copy=True, with_mean=True, with_std=True)),\n",
       "  ('pca',\n",
       "   PCA(copy=True, iterated_power='auto', n_components=5, random_state=None,\n",
       "     svd_solver='auto', tol=0.0, whiten=False)),\n",
       "  ('svr',\n",
       "   SVR(C=1.0, cache_size=200, coef0=0.0, degree=3, epsilon=0.1, gamma='auto',\n",
       "     kernel='rbf', max_iter=-1, shrinking=True, tol=0.001, verbose=False))],\n",
       " 'svr': SVR(C=1.0, cache_size=200, coef0=0.0, degree=3, epsilon=0.1, gamma='auto',\n",
       "   kernel='rbf', max_iter=-1, shrinking=True, tol=0.001, verbose=False),\n",
       " 'svr__C': 1.0,\n",
       " 'svr__cache_size': 200,\n",
       " 'svr__coef0': 0.0,\n",
       " 'svr__degree': 3,\n",
       " 'svr__epsilon': 0.1,\n",
       " 'svr__gamma': 'auto',\n",
       " 'svr__kernel': 'rbf',\n",
       " 'svr__max_iter': -1,\n",
       " 'svr__shrinking': True,\n",
       " 'svr__tol': 0.001,\n",
       " 'svr__verbose': False}"
      ]
     },
     "execution_count": 45,
     "metadata": {},
     "output_type": "execute_result"
    }
   ],
   "source": [
    "pipe.get_params()"
   ]
  },
  {
   "cell_type": "code",
   "execution_count": 46,
   "metadata": {},
   "outputs": [
    {
     "data": {
      "text/plain": [
       "Pipeline(steps=[('scale', StandardScaler(copy=True, with_mean=True, with_std=True)), ('pca', PCA(copy=True, iterated_power='auto', n_components=5, random_state=None,\n",
       "  svd_solver='auto', tol=0.0, whiten=False)), ('svr', SVR(C=0.9, cache_size=200, coef0=0.0, degree=3, epsilon=0.1, gamma='auto',\n",
       "  kernel='rbf', max_iter=-1, shrinking=True, tol=0.001, verbose=False))])"
      ]
     },
     "execution_count": 46,
     "metadata": {},
     "output_type": "execute_result"
    }
   ],
   "source": [
    "pipe.set_params(svr__C=0.9)"
   ]
  },
  {
   "cell_type": "markdown",
   "metadata": {},
   "source": [
    "# Store model"
   ]
  },
  {
   "cell_type": "code",
   "execution_count": 47,
   "metadata": {
    "collapsed": true
   },
   "outputs": [],
   "source": [
    "import pickle"
   ]
  },
  {
   "cell_type": "code",
   "execution_count": 48,
   "metadata": {
    "collapsed": true
   },
   "outputs": [],
   "source": [
    "#dump model as model.pickle\n",
    "with open('model.pickle', 'wb') as out:\n",
    "    pickle.dump(pipe, out)"
   ]
  },
  {
   "cell_type": "code",
   "execution_count": 49,
   "metadata": {
    "collapsed": true
   },
   "outputs": [],
   "source": [
    "#if want to use model again\n",
    "with open('model.pickle', 'rb') as fp:\n",
    "    pipe1 = pickle.load(fp)"
   ]
  },
  {
   "cell_type": "code",
   "execution_count": 50,
   "metadata": {},
   "outputs": [
    {
     "data": {
      "text/plain": [
       "[('scale', StandardScaler(copy=True, with_mean=True, with_std=True)),\n",
       " ('pca',\n",
       "  PCA(copy=True, iterated_power='auto', n_components=5, random_state=None,\n",
       "    svd_solver='auto', tol=0.0, whiten=False)),\n",
       " ('svr',\n",
       "  SVR(C=0.9, cache_size=200, coef0=0.0, degree=3, epsilon=0.1, gamma='auto',\n",
       "    kernel='rbf', max_iter=-1, shrinking=True, tol=0.001, verbose=False))]"
      ]
     },
     "execution_count": 50,
     "metadata": {},
     "output_type": "execute_result"
    }
   ],
   "source": [
    "pipe1.steps"
   ]
  },
  {
   "cell_type": "code",
   "execution_count": 51,
   "metadata": {},
   "outputs": [
    {
     "data": {
      "text/plain": [
       "0.49125501859540871"
      ]
     },
     "execution_count": 51,
     "metadata": {},
     "output_type": "execute_result"
    }
   ],
   "source": [
    "#get same score as before\n",
    "pipe1.score(X_test, y_test)"
   ]
  },
  {
   "cell_type": "code",
   "execution_count": null,
   "metadata": {
    "collapsed": true
   },
   "outputs": [],
   "source": []
  }
 ],
 "metadata": {
  "kernelspec": {
   "display_name": "Python 3",
   "language": "python",
   "name": "python3"
  },
  "language_info": {
   "codemirror_mode": {
    "name": "ipython",
    "version": 3
   },
   "file_extension": ".py",
   "mimetype": "text/x-python",
   "name": "python",
   "nbconvert_exporter": "python",
   "pygments_lexer": "ipython3",
   "version": "3.6.1"
  }
 },
 "nbformat": 4,
 "nbformat_minor": 2
}
